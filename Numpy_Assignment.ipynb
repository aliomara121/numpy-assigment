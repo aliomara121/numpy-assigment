{
 "cells": [
  {
   "cell_type": "markdown",
   "id": "22e31e01",
   "metadata": {
    "id": "22e31e01"
   },
   "source": [
    "# Numpy"
   ]
  },
  {
   "cell_type": "markdown",
   "id": "180e4a24",
   "metadata": {
    "id": "180e4a24"
   },
   "source": [
    "Numpy is THE library for scientific computing and linear algebra in Python's community and was designed to give users the best of both worlds in programming languages: the speed of `C` language with the readability and elegance of `Python`."
   ]
  },
  {
   "cell_type": "markdown",
   "id": "fbc83262",
   "metadata": {
    "id": "fbc83262"
   },
   "source": [
    "### Why Numpy?\n",
    "A question arises that why do we need NumPy when python lists are already there. The answer to it is we cannot perform operations on all the elements of two list directly. For example we cannot multiply two lists directly we will have to do it element wise. This is where the role of NumPy comes into play."
   ]
  },
  {
   "cell_type": "code",
   "execution_count": 2,
   "id": "1449a0e7",
   "metadata": {
    "id": "1449a0e7"
   },
   "outputs": [],
   "source": [
    "import numpy as np"
   ]
  },
  {
   "cell_type": "markdown",
   "id": "728ee6e8",
   "metadata": {
    "id": "728ee6e8"
   },
   "source": [
    "#### Q1: Create a 1D array of numbers from 0 to 9.\n"
   ]
  },
  {
   "cell_type": "code",
   "execution_count": 3,
   "id": "dc010cd9",
   "metadata": {},
   "outputs": [
    {
     "data": {
      "text/plain": [
       "array([0, 1, 2, 3, 4, 5, 6, 7, 8, 9])"
      ]
     },
     "execution_count": 3,
     "metadata": {},
     "output_type": "execute_result"
    }
   ],
   "source": [
    "vec =np.array(range(10))\n",
    "vec"
   ]
  },
  {
   "cell_type": "markdown",
   "id": "df88002e",
   "metadata": {
    "id": "df88002e",
    "outputId": "2d774aee-c0c4-41fa-cab3-3222c9b946ae"
   },
   "source": [
    "#### Q2: Extract all odd numbers from arr.\n"
   ]
  },
  {
   "cell_type": "code",
   "execution_count": 4,
   "id": "5a499c34",
   "metadata": {},
   "outputs": [
    {
     "data": {
      "text/plain": [
       "array([1, 3, 5, 7, 9])"
      ]
     },
     "execution_count": 4,
     "metadata": {},
     "output_type": "execute_result"
    }
   ],
   "source": [
    "vec =np.array(range(1,10,2))\n",
    "vec"
   ]
  },
  {
   "cell_type": "markdown",
   "id": "80d71e7b",
   "metadata": {
    "id": "80d71e7b",
    "outputId": "3dcf10dd-74ce-4e97-af9e-a6a113fa5325",
    "scrolled": true
   },
   "source": [
    "#### Q3: Replace all odd numbers in arr with -1.\n"
   ]
  },
  {
   "cell_type": "code",
   "execution_count": 5,
   "id": "095cc9cc",
   "metadata": {},
   "outputs": [
    {
     "data": {
      "text/plain": [
       "array([ 0, -1,  2, -1,  4, -1,  6, -1,  8, -1])"
      ]
     },
     "execution_count": 5,
     "metadata": {},
     "output_type": "execute_result"
    }
   ],
   "source": [
    "vec = np.array([0, 1, 2, 3, 4, 5, 6, 7, 8, 9])\n",
    "vec\n",
    "vec[vec % 2 == 1 ]=-1\n",
    "vec"
   ]
  },
  {
   "cell_type": "markdown",
   "id": "0ff13c21",
   "metadata": {
    "id": "0ff13c21",
    "outputId": "c433746f-d447-4cf4-a644-f7783f82ef99"
   },
   "source": [
    "#### Q4: Convert a 1D array of length 10 to a 2D array with 2 rows\n"
   ]
  },
  {
   "cell_type": "code",
   "execution_count": 6,
   "id": "71129333",
   "metadata": {},
   "outputs": [
    {
     "data": {
      "text/plain": [
       "array([[ 0, -1,  2, -1,  4],\n",
       "       [-1,  6, -1,  8, -1]])"
      ]
     },
     "execution_count": 6,
     "metadata": {},
     "output_type": "execute_result"
    }
   ],
   "source": [
    "vec\n",
    "np.reshape(vec,(2,5))"
   ]
  },
  {
   "cell_type": "markdown",
   "id": "dea88c8f",
   "metadata": {
    "id": "dea88c8f",
    "outputId": "a65b17fe-39ec-4d6d-bc5c-0d3d586c61c7"
   },
   "source": [
    "#### Q5: compute the square root for each element in the  array\n",
    "#### ([[1, 2, 3],[2, 3, 4],[4, 5, 6]])\n"
   ]
  },
  {
   "cell_type": "code",
   "execution_count": 7,
   "id": "f1dc54eb",
   "metadata": {},
   "outputs": [
    {
     "data": {
      "text/plain": [
       "array([[ 1,  4,  9],\n",
       "       [ 4,  9, 16],\n",
       "       [16, 25, 36]])"
      ]
     },
     "execution_count": 7,
     "metadata": {},
     "output_type": "execute_result"
    }
   ],
   "source": [
    "matrix = np.array([[1, 2, 3],[2, 3, 4],[4, 5, 6]])\n",
    "matrix\n",
    "np.power(matrix,2)"
   ]
  },
  {
   "cell_type": "markdown",
   "id": "d2a4eace",
   "metadata": {
    "id": "d2a4eace",
    "outputId": "29b031b9-340a-46ce-f99a-71e45e965cfc"
   },
   "source": [
    "#### Q6: compute the exponential for each element in the above array\n"
   ]
  },
  {
   "cell_type": "code",
   "execution_count": 8,
   "id": "e14df40b",
   "metadata": {},
   "outputs": [
    {
     "data": {
      "text/plain": [
       "array([[  2.71828183,   7.3890561 ,  20.08553692],\n",
       "       [  7.3890561 ,  20.08553692,  54.59815003],\n",
       "       [ 54.59815003, 148.4131591 , 403.42879349]])"
      ]
     },
     "execution_count": 8,
     "metadata": {},
     "output_type": "execute_result"
    }
   ],
   "source": [
    "matrix\n",
    "np.exp(matrix)"
   ]
  },
  {
   "cell_type": "markdown",
   "id": "8293fb48",
   "metadata": {
    "id": "8293fb48",
    "outputId": "30df687b-b74a-43a5-963d-4a43fa70fbd6"
   },
   "source": [
    "#### Q7: sample 8 elements from uniform dist ([0, 1)\n"
   ]
  },
  {
   "cell_type": "code",
   "execution_count": 9,
   "id": "a15c5794",
   "metadata": {},
   "outputs": [
    {
     "data": {
      "text/plain": [
       "array([0.30274905, 0.1069469 , 0.41913847, 0.75865907, 0.77080407,\n",
       "       0.98002   , 0.68364376, 0.44191072])"
      ]
     },
     "execution_count": 9,
     "metadata": {},
     "output_type": "execute_result"
    }
   ],
   "source": [
    "vec_1 = np.random.uniform(0,1,8)\n",
    "vec_1"
   ]
  },
  {
   "cell_type": "markdown",
   "id": "9177dac4",
   "metadata": {
    "id": "9177dac4"
   },
   "source": [
    "#### Q8: Write a NumPy program to create a vector of length 5 filled with arbitrary integers from 0 to 10."
   ]
  },
  {
   "cell_type": "code",
   "execution_count": 10,
   "id": "020662a4",
   "metadata": {},
   "outputs": [
    {
     "data": {
      "text/plain": [
       "array([2, 7, 2, 2, 8], dtype=int32)"
      ]
     },
     "execution_count": 10,
     "metadata": {},
     "output_type": "execute_result"
    }
   ],
   "source": [
    "np.random.randint(0,10,5)"
   ]
  },
  {
   "cell_type": "markdown",
   "id": "96c6a9f7",
   "metadata": {
    "id": "96c6a9f7"
   },
   "source": [
    "#### Q9: Write a NumPy program to create a 3x4 matrix filled with values from 10 to 21"
   ]
  },
  {
   "cell_type": "code",
   "execution_count": 11,
   "id": "8a513bdd",
   "metadata": {},
   "outputs": [
    {
     "data": {
      "text/plain": [
       "array([[10, 11, 12, 13],\n",
       "       [14, 15, 16, 17],\n",
       "       [18, 19, 20, 21]])"
      ]
     },
     "execution_count": 11,
     "metadata": {},
     "output_type": "execute_result"
    }
   ],
   "source": [
    "vec_2 = np.arange(10,22)\n",
    "vec_2\n",
    "matrix_2 = vec_2.reshape(3,4)\n",
    "matrix_2"
   ]
  },
  {
   "cell_type": "markdown",
   "id": "c7e42479",
   "metadata": {
    "id": "c7e42479"
   },
   "source": [
    "#### Q10: Write a NumPy program to create a vector of length 10 with values evenly distributed between 5 and 50."
   ]
  },
  {
   "cell_type": "code",
   "execution_count": 29,
   "id": "8eb8b0c7",
   "metadata": {},
   "outputs": [
    {
     "data": {
      "text/plain": [
       "array([[ 5],\n",
       "       [10],\n",
       "       [15],\n",
       "       [20],\n",
       "       [25],\n",
       "       [30],\n",
       "       [35],\n",
       "       [40],\n",
       "       [45],\n",
       "       [50]])"
      ]
     },
     "execution_count": 29,
     "metadata": {},
     "output_type": "execute_result"
    }
   ],
   "source": [
    "vec_5 = np.arange(5,51,5)\n",
    "vec_5.reshape(10,1)\n"
   ]
  },
  {
   "cell_type": "markdown",
   "id": "d617d3d8",
   "metadata": {
    "id": "d617d3d8"
   },
   "source": [
    "#### Q11: Write a NumPy program to create an array of all the even integers from 30 to 70."
   ]
  },
  {
   "cell_type": "code",
   "execution_count": 13,
   "id": "7e280ad8",
   "metadata": {},
   "outputs": [
    {
     "data": {
      "text/plain": [
       "array([30, 32, 34, 36, 38, 40, 42, 44, 46, 48, 50, 52, 54, 56, 58, 60, 62,\n",
       "       64, 66, 68, 70])"
      ]
     },
     "execution_count": 13,
     "metadata": {},
     "output_type": "execute_result"
    }
   ],
   "source": [
    "vec_3 = np.arange(30,71,2)\n",
    "vec_3"
   ]
  },
  {
   "cell_type": "markdown",
   "id": "cd373f6d",
   "metadata": {
    "id": "cd373f6d"
   },
   "source": [
    "#### Q12: Write a NumPy program to check whether two arrays are equal (element wise) or not"
   ]
  },
  {
   "cell_type": "code",
   "execution_count": 20,
   "id": "4b939df3",
   "metadata": {},
   "outputs": [
    {
     "data": {
      "text/plain": [
       "array([ True, False,  True, False,  True, False,  True, False,  True,\n",
       "       False])"
      ]
     },
     "execution_count": 20,
     "metadata": {},
     "output_type": "execute_result"
    }
   ],
   "source": [
    "vec\n",
    "vec_4 = np.array([ 0, 1,  2, 3,  4, 5,  6, 7,  8, 9])\n",
    "np.isin(vec,vec_4)"
   ]
  },
  {
   "cell_type": "code",
   "execution_count": 23,
   "id": "c08025f4",
   "metadata": {},
   "outputs": [
    {
     "data": {
      "text/plain": [
       "False"
      ]
     },
     "execution_count": 23,
     "metadata": {},
     "output_type": "execute_result"
    }
   ],
   "source": [
    "# another solution\n",
    "np.array_equal(vec,vec_4)"
   ]
  }
 ],
 "metadata": {
  "colab": {
   "provenance": []
  },
  "kernelspec": {
   "display_name": "ali-da",
   "language": "python",
   "name": "python3"
  },
  "language_info": {
   "codemirror_mode": {
    "name": "ipython",
    "version": 3
   },
   "file_extension": ".py",
   "mimetype": "text/x-python",
   "name": "python",
   "nbconvert_exporter": "python",
   "pygments_lexer": "ipython3",
   "version": "3.11.10"
  }
 },
 "nbformat": 4,
 "nbformat_minor": 5
}
